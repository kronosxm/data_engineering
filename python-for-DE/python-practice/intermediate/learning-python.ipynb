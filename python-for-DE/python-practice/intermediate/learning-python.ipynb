{
 "cells": [
  {
   "cell_type": "code",
   "execution_count": 1,
   "id": "befc1582-e825-498c-98e8-095007d0e05e",
   "metadata": {},
   "outputs": [
    {
     "data": {
      "text/plain": [
       "8.0"
      ]
     },
     "execution_count": 1,
     "metadata": {},
     "output_type": "execute_result"
    }
   ],
   "source": [
    "# modules/packages\n",
    "\n",
    "import math\n",
    "\n",
    "math.pow(2,3)"
   ]
  },
  {
   "cell_type": "code",
   "execution_count": 2,
   "id": "f3fd9e9d-bbab-4f2d-b7b1-01619b0b103f",
   "metadata": {},
   "outputs": [
    {
     "data": {
      "text/plain": [
       "[10, 234, 678]"
      ]
     },
     "execution_count": 2,
     "metadata": {},
     "output_type": "execute_result"
    }
   ],
   "source": [
    "# list comprehensions\n",
    "\n",
    "numbers = [10,234,3245,567,57,678]\n",
    "even_nums = [num for num in numbers if num % 2 == 0]\n",
    "even_nums"
   ]
  },
  {
   "cell_type": "code",
   "execution_count": 3,
   "id": "888193df-ba89-4ae5-b606-953c95313539",
   "metadata": {},
   "outputs": [
    {
     "data": {
      "text/plain": [
       "[(3245, 10530025), (567, 321489), (57, 3249)]"
      ]
     },
     "execution_count": 3,
     "metadata": {},
     "output_type": "execute_result"
    }
   ],
   "source": [
    "odd_squares = [(num, num ** 2) for num in numbers if num % 2 !=0]\n",
    "odd_squares"
   ]
  },
  {
   "cell_type": "code",
   "execution_count": 9,
   "id": "416028da-9743-413c-a510-eea8eabe9c0d",
   "metadata": {},
   "outputs": [
    {
     "name": "stdout",
     "output_type": "stream",
     "text": [
      "Divided by Zero\n",
      "Always runs\n"
     ]
    }
   ],
   "source": [
    "# Exception handling\n",
    "\n",
    "try:\n",
    "    x = 1/0\n",
    "except ZeroDivisionError:\n",
    "    print(\"Divided by Zero\")\n",
    "else:\n",
    "    print(\"No exception\") # optional\n",
    "finally:\n",
    "    print(\"Always runs\") # optional"
   ]
  },
  {
   "cell_type": "code",
   "execution_count": 10,
   "id": "b0cc41ab-0ec2-4e6b-a777-fcd022b110f2",
   "metadata": {},
   "outputs": [],
   "source": [
    "# working with text file\n",
    "\n",
    "with open(\"new-file.txt\", \"w\") as f:\n",
    "    f.write(\"Hello world\\nThis is the second line\\nAnd this is the last line\")"
   ]
  },
  {
   "cell_type": "code",
   "execution_count": 11,
   "id": "390e5eb0-cc65-42d1-a571-fc85a82ebc71",
   "metadata": {},
   "outputs": [
    {
     "name": "stdout",
     "output_type": "stream",
     "text": [
      "/Users/pprabha/Documents/data_engineering/python-for-DE/python-practice/intermediate\n"
     ]
    }
   ],
   "source": [
    "import os\n",
    "\n",
    "print(os.path.abspath(os.curdir))"
   ]
  },
  {
   "cell_type": "code",
   "execution_count": 13,
   "id": "166cd553-8d35-4bd9-bff0-a3c787777b5a",
   "metadata": {},
   "outputs": [
    {
     "name": "stdout",
     "output_type": "stream",
     "text": [
      "Hello world\n",
      "This is the second line\n",
      "And this is the last line\n"
     ]
    }
   ],
   "source": [
    "with open(\"new-file.txt\", \"r\") as f:\n",
    "    print(f.read())"
   ]
  },
  {
   "cell_type": "code",
   "execution_count": 14,
   "id": "82655cc8-fdf8-474a-9b78-7b1b5979b5ce",
   "metadata": {},
   "outputs": [
    {
     "name": "stdout",
     "output_type": "stream",
     "text": [
      "Quod equidem non reprehendo;\n",
      "Lorem ipsum dolor sit amet, consectetur adipiscing elit. Quibus natura iure responderit non esse verum aliunde finem beate vivendi, a se principia rei gerendae peti; Quae enim adhuc protulisti, popularia sunt, ego autem a te elegantiora desidero. Duo Reges: constructio interrete. Tum Lucius: Mihi vero ista valde probata sunt, quod item fratri puto. Bestiarum vero nullum iudicium puto. Nihil enim iam habes, quod ad corpus referas; Deinde prima illa, quae in congressu solemus: Quid tu, inquit, huc? Et homini, qui ceteris animantibus plurimum praestat, praecipue a natura nihil datum esse dicemus?\n",
      "\n",
      "Iam id ipsum absurdum, maximum malum neglegi. Quod ea non occurrentia fingunt, vincunt Aristonem; Atqui perspicuum est hominem e corpore animoque constare, cum primae sint animi partes, secundae corporis. Fieri, inquam, Triari, nullo pacto potest, ut non dicas, quid non probes eius, a quo dissentias. Equidem e Cn. An dubium est, quin virtus ita maximam partem optineat in rebus humanis, ut reliquas obruat?\n",
      "\n",
      "Quis istum dolorem timet?\n",
      "Summus dolor plures dies manere non potest? Dicet pro me ipsa virtus nec dubitabit isti vestro beato M. Tubulum fuisse, qua illum, cuius is condemnatus est rogatione, P. Quod si ita sit, cur opera philosophiae sit danda nescio.\n",
      "\n",
      "Ex eorum enim scriptis et institutis cum omnis doctrina liberalis, omnis historia.\n",
      "Quod si ita est, sequitur id ipsum, quod te velle video, omnes semper beatos esse sapientes. Cum enim fertur quasi torrens oratio, quamvis multa cuiusque modi rapiat, nihil tamen teneas, nihil apprehendas, nusquam orationem rapidam coerceas. Ita redarguitur ipse a sese, convincunturque scripta eius probitate ipsius ac moribus. At quanta conantur! Mundum hunc omnem oppidum esse nostrum! Incendi igitur eos, qui audiunt, vides. Vide, ne magis, inquam, tuum fuerit, cum re idem tibi, quod mihi, videretur, non nova te rebus nomina inponere. Qui-vere falsone, quaerere mittimus-dicitur oculis se privasse; Si ista mala sunt, in quae potest incidere sapiens, sapientem esse non esse ad beate vivendum satis. At vero si ad vitem sensus accesserit, ut appetitum quendam habeat et per se ipsa moveatur, quid facturam putas?\n",
      "\n",
      "Quem si tenueris, non modo meum Ciceronem, sed etiam me ipsum abducas licebit.\n",
      "Stulti autem malorum memoria torquentur, sapientes bona praeterita grata recordatione renovata delectant.\n",
      "Esse enim quam vellet iniquus iustus poterat inpune.\n",
      "Quae autem natura suae primae institutionis oblita est?\n",
      "Verum tamen cum de rebus grandioribus dicas, ipsae res verba rapiunt;\n",
      "Hoc est non modo cor non habere, sed ne palatum quidem.\n",
      "Voluptatem cum summum bonum diceret, primum in eo ipso parum vidit, deinde hoc quoque alienum; Sed tu istuc dixti bene Latine, parum plane. Nam haec ipsa mihi erunt in promptu, quae modo audivi, nec ante aggrediar, quam te ab istis, quos dicis, instructum videro. Fatebuntur Stoici haec omnia dicta esse praeclare, neque eam causam Zenoni desciscendi fuisse. Non autem hoc: igitur ne illud quidem. Ratio quidem vestra sic cogit. Cum audissem Antiochum, Brute, ut solebam, cum M. An quod ita callida est, ut optime possit architectari voluptates?\n",
      "\n",
      "Idemne, quod iucunde?\n",
      "Haec mihi videtur delicatior, ut ita dicam, molliorque ratio, quam virtutis vis gravitasque postulat. Sed quoniam et advesperascit et mihi ad villam revertendum est, nunc quidem hactenus; Cuius ad naturam apta ratio vera illa et summa lex a philosophis dicitur. Neque solum ea communia, verum etiam paria esse dixerunt. Sed nunc, quod agimus; A mene tu?\n"
     ]
    }
   ],
   "source": [
    "with open(\"text-file.txt\", \"r\") as f:\n",
    "    print(f.read())"
   ]
  },
  {
   "cell_type": "code",
   "execution_count": 19,
   "id": "27c6cf58-ce4e-4cce-a97a-5da5a69c21a4",
   "metadata": {},
   "outputs": [],
   "source": [
    "with open(\"new-file.txt\", \"a\") as f:\n",
    "    f.write(\"\\nAdding more lines\")"
   ]
  },
  {
   "cell_type": "code",
   "execution_count": 20,
   "id": "a30f4f70-0794-413c-9f99-408f4dfaac34",
   "metadata": {},
   "outputs": [
    {
     "name": "stdout",
     "output_type": "stream",
     "text": [
      "Hello world\n",
      "This is the second line\n",
      "And this is the last lineAdding more linesAdding more lines\n",
      "Adding more lines\n"
     ]
    }
   ],
   "source": [
    "with open(\"new-file.txt\", \"r\") as f:\n",
    "    print(f.read())"
   ]
  },
  {
   "cell_type": "code",
   "execution_count": 21,
   "id": "19adc128-43cb-4ec9-83d7-8459003ed458",
   "metadata": {},
   "outputs": [],
   "source": [
    "f.close()"
   ]
  },
  {
   "cell_type": "code",
   "execution_count": 26,
   "id": "70054992-2006-45db-9deb-8decbdec28c3",
   "metadata": {},
   "outputs": [
    {
     "name": "stdout",
     "output_type": "stream",
     "text": [
      "1\n",
      "4\n",
      "9\n",
      "16\n",
      "25\n",
      "36\n",
      "49\n",
      "64\n",
      "81\n",
      "100\n"
     ]
    }
   ],
   "source": [
    "# challenge\n",
    "# list of 10 nums. iterate through list and print square of each\n",
    "\n",
    "li = [num for num in range(1,11)]\n",
    "\n",
    "for i in li:\n",
    "    print(i**2)"
   ]
  },
  {
   "cell_type": "code",
   "execution_count": 27,
   "id": "ca947d86-3ab8-4646-8434-bcb057e38758",
   "metadata": {},
   "outputs": [
    {
     "data": {
      "text/plain": [
       "[1, 4, 9, 16, 25, 36, 49, 64, 81, 100]"
      ]
     },
     "execution_count": 27,
     "metadata": {},
     "output_type": "execute_result"
    }
   ],
   "source": [
    "squared_li = [num**2 for num in li]\n",
    "squared_li"
   ]
  },
  {
   "cell_type": "code",
   "execution_count": null,
   "id": "ac90df91-384b-4174-bd60-45e7554645f3",
   "metadata": {},
   "outputs": [],
   "source": [
    "# functions\n",
    "\n"
   ]
  }
 ],
 "metadata": {
  "kernelspec": {
   "display_name": "Python 3 (ipykernel)",
   "language": "python",
   "name": "python3"
  },
  "language_info": {
   "codemirror_mode": {
    "name": "ipython",
    "version": 3
   },
   "file_extension": ".py",
   "mimetype": "text/x-python",
   "name": "python",
   "nbconvert_exporter": "python",
   "pygments_lexer": "ipython3",
   "version": "3.12.3"
  }
 },
 "nbformat": 4,
 "nbformat_minor": 5
}

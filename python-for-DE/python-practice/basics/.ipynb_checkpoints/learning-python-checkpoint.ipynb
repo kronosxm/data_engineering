{
 "cells": [
  {
   "cell_type": "code",
   "execution_count": 1,
   "id": "f238e761-0a96-421a-93e1-2e3beaac52cc",
   "metadata": {},
   "outputs": [
    {
     "name": "stdout",
     "output_type": "stream",
     "text": [
      "Hello world\n"
     ]
    }
   ],
   "source": [
    "print(\"Hello world\")"
   ]
  },
  {
   "cell_type": "markdown",
   "id": "37e3e4a4-1304-4dfd-826f-9f9a9a975765",
   "metadata": {
    "editable": true,
    "slideshow": {
     "slide_type": ""
    },
    "tags": []
   },
   "source": [
    "# Strings"
   ]
  },
  {
   "cell_type": "code",
   "execution_count": 1,
   "id": "c431d75a-b167-4cde-a702-66366e0b847b",
   "metadata": {},
   "outputs": [],
   "source": [
    "# var\n",
    "product_name = \"iPhone\""
   ]
  },
  {
   "cell_type": "code",
   "execution_count": 2,
   "id": "74db1c59-946c-4b5e-9750-a6d339f4b42b",
   "metadata": {},
   "outputs": [],
   "source": [
    "# concatination\n",
    "first_name = \"Tim\"\n",
    "last_name = \"Cook\"\n",
    "full_name = first_name + \" \" + last_name"
   ]
  },
  {
   "cell_type": "code",
   "execution_count": 3,
   "id": "a58c2a44-70eb-4bcf-8b76-64dd96c14020",
   "metadata": {},
   "outputs": [
    {
     "data": {
      "text/plain": [
       "'Tim Cook'"
      ]
     },
     "execution_count": 3,
     "metadata": {},
     "output_type": "execute_result"
    }
   ],
   "source": [
    "full_name"
   ]
  },
  {
   "cell_type": "code",
   "execution_count": 1,
   "id": "012962d8-9427-405c-b1aa-efa83fe1b076",
   "metadata": {},
   "outputs": [
    {
     "data": {
      "text/plain": [
       "['Apple', 'Banana', 'Mango', 'Pineapple']"
      ]
     },
     "execution_count": 1,
     "metadata": {},
     "output_type": "execute_result"
    }
   ],
   "source": [
    "# working with lists\n",
    "li = [\"Apple\", \"Banana\", \"Mango\", \"Pineapple\"]\n",
    "li"
   ]
  },
  {
   "cell_type": "code",
   "execution_count": 2,
   "id": "296e7712-b223-4a83-98bc-a615d6899194",
   "metadata": {},
   "outputs": [],
   "source": [
    "li.append(\"Kiwi\")"
   ]
  },
  {
   "cell_type": "code",
   "execution_count": 3,
   "id": "35d2b72b-b7c7-4b9f-bd5d-ad2ae1bc3640",
   "metadata": {},
   "outputs": [
    {
     "data": {
      "text/plain": [
       "'Mango'"
      ]
     },
     "execution_count": 3,
     "metadata": {},
     "output_type": "execute_result"
    }
   ],
   "source": [
    "li[2]"
   ]
  },
  {
   "cell_type": "code",
   "execution_count": 4,
   "id": "e585e0a8-8760-48ff-b018-4c8c7900e327",
   "metadata": {},
   "outputs": [
    {
     "data": {
      "text/plain": [
       "2"
      ]
     },
     "execution_count": 4,
     "metadata": {},
     "output_type": "execute_result"
    }
   ],
   "source": [
    "li.index(\"Mango\")"
   ]
  },
  {
   "cell_type": "code",
   "execution_count": 5,
   "id": "aeb0d8ac-31b5-44b3-b62a-69096e9cd817",
   "metadata": {},
   "outputs": [
    {
     "data": {
      "text/plain": [
       "'Kiwi'"
      ]
     },
     "execution_count": 5,
     "metadata": {},
     "output_type": "execute_result"
    }
   ],
   "source": [
    "li.pop()"
   ]
  },
  {
   "cell_type": "code",
   "execution_count": 7,
   "id": "d88cfb67-03c3-4e39-a028-1490f87364ce",
   "metadata": {},
   "outputs": [
    {
     "data": {
      "text/plain": [
       "4"
      ]
     },
     "execution_count": 7,
     "metadata": {},
     "output_type": "execute_result"
    }
   ],
   "source": [
    "len(li)"
   ]
  },
  {
   "cell_type": "code",
   "execution_count": 8,
   "id": "e99bb398-c783-40f3-8cd2-1a4f8ae3c596",
   "metadata": {},
   "outputs": [],
   "source": [
    "li.extend([\"1,2,3,4\"])"
   ]
  },
  {
   "cell_type": "code",
   "execution_count": 9,
   "id": "2d792ef7-cc04-4cec-a3b5-049b1b656259",
   "metadata": {},
   "outputs": [
    {
     "data": {
      "text/plain": [
       "['Apple', 'Banana', 'Mango', 'Pineapple', '1,2,3,4']"
      ]
     },
     "execution_count": 9,
     "metadata": {},
     "output_type": "execute_result"
    }
   ],
   "source": [
    "li"
   ]
  },
  {
   "cell_type": "code",
   "execution_count": 10,
   "id": "5dbcc0af-baa7-4beb-9004-2ffa558fa086",
   "metadata": {},
   "outputs": [],
   "source": [
    "li1 = [1,2,3,4,5]\n",
    "li1.extend([6,7,8,9])"
   ]
  },
  {
   "cell_type": "code",
   "execution_count": 11,
   "id": "3c2afad6-dab8-4aa2-b217-e9d5bdde1097",
   "metadata": {},
   "outputs": [
    {
     "data": {
      "text/plain": [
       "[1, 2, 3, 4, 5, 6, 7, 8, 9]"
      ]
     },
     "execution_count": 11,
     "metadata": {},
     "output_type": "execute_result"
    }
   ],
   "source": [
    "li1"
   ]
  },
  {
   "cell_type": "code",
   "execution_count": 12,
   "id": "e8973b1a-f1d4-43a6-be4f-09b75aac2b19",
   "metadata": {},
   "outputs": [
    {
     "data": {
      "text/plain": [
       "[0, 1, 2, 3, 4, 5, 6, 7, 8]"
      ]
     },
     "execution_count": 12,
     "metadata": {},
     "output_type": "execute_result"
    }
   ],
   "source": [
    "li = list(range(9))\n",
    "li"
   ]
  },
  {
   "cell_type": "code",
   "execution_count": 13,
   "id": "eed9dda7-5f36-4476-ac8f-9200446adaa2",
   "metadata": {},
   "outputs": [
    {
     "data": {
      "text/plain": [
       "[1, 3, 5, 7]"
      ]
     },
     "execution_count": 13,
     "metadata": {},
     "output_type": "execute_result"
    }
   ],
   "source": [
    "li[1:9:2]"
   ]
  },
  {
   "cell_type": "code",
   "execution_count": 23,
   "id": "ceccc7dc-0fad-45ff-a597-b33442ba918d",
   "metadata": {},
   "outputs": [
    {
     "data": {
      "text/plain": [
       "[3, 4, 5, 6]"
      ]
     },
     "execution_count": 23,
     "metadata": {},
     "output_type": "execute_result"
    }
   ],
   "source": [
    "li[-6:-2]"
   ]
  },
  {
   "cell_type": "code",
   "execution_count": 24,
   "id": "ac9fa0c4-e17c-4d92-93c0-96fbaaeadf83",
   "metadata": {},
   "outputs": [],
   "source": [
    "li.insert(2, 100)"
   ]
  },
  {
   "cell_type": "code",
   "execution_count": 44,
   "id": "d2fb48b1-a8a5-4975-9156-db0b9d76f186",
   "metadata": {},
   "outputs": [],
   "source": [
    "li.remove(6)"
   ]
  },
  {
   "cell_type": "code",
   "execution_count": 45,
   "id": "caa3b64f-5f99-4a8b-9d36-883516b7a826",
   "metadata": {},
   "outputs": [
    {
     "data": {
      "text/plain": [
       "[0, 1, 100, 2, 3, 5, 7, 8]"
      ]
     },
     "execution_count": 45,
     "metadata": {},
     "output_type": "execute_result"
    }
   ],
   "source": [
    "li"
   ]
  },
  {
   "cell_type": "code",
   "execution_count": 28,
   "id": "ac1e1725-1391-442a-b586-53ab3faf6cac",
   "metadata": {},
   "outputs": [],
   "source": [
    "# dicts\n",
    "\n",
    "d = {\n",
    "    \"a\": 10,\n",
    "    \"b\": 20,\n",
    "    \"c\": 30\n",
    "}\n",
    "\n",
    "d[\"a\"] = 330"
   ]
  },
  {
   "cell_type": "code",
   "execution_count": 46,
   "id": "18328ef1-cdf1-4975-916b-c62b2315b8c7",
   "metadata": {},
   "outputs": [
    {
     "name": "stdout",
     "output_type": "stream",
     "text": [
      "a\n",
      "b\n",
      "c\n",
      "d\n"
     ]
    }
   ],
   "source": [
    "for a in d:\n",
    "    print(a)"
   ]
  },
  {
   "cell_type": "code",
   "execution_count": 29,
   "id": "a6fca2d6-38a4-4490-8cc2-82ecd2e5ca8e",
   "metadata": {},
   "outputs": [
    {
     "data": {
      "text/plain": [
       "330"
      ]
     },
     "execution_count": 29,
     "metadata": {},
     "output_type": "execute_result"
    }
   ],
   "source": [
    "d[\"a\"]"
   ]
  },
  {
   "cell_type": "code",
   "execution_count": 30,
   "id": "d52bb3d9-f89d-4ff2-955b-f6440cf4b1b8",
   "metadata": {},
   "outputs": [],
   "source": [
    "d[\"d\"] = 683643"
   ]
  },
  {
   "cell_type": "code",
   "execution_count": 31,
   "id": "035e5f9b-2a10-4415-adf0-529c2bbd4c96",
   "metadata": {},
   "outputs": [
    {
     "data": {
      "text/plain": [
       "{'a': 330, 'b': 20, 'c': 30, 'd': 683643}"
      ]
     },
     "execution_count": 31,
     "metadata": {},
     "output_type": "execute_result"
    }
   ],
   "source": [
    "d"
   ]
  },
  {
   "cell_type": "code",
   "execution_count": 33,
   "id": "e5f7e849-fc52-4dc8-a3ba-3fc4f6ea5e4d",
   "metadata": {},
   "outputs": [],
   "source": [
    "# sets and bool\n",
    "\n",
    "s = {1,2,3,4,5,6,7}"
   ]
  },
  {
   "cell_type": "code",
   "execution_count": 34,
   "id": "2d54211e-22a2-4ac7-a2b7-0f3855f4a3aa",
   "metadata": {},
   "outputs": [
    {
     "data": {
      "text/plain": [
       "{1, 2, 3, 4, 5, 6, 7}"
      ]
     },
     "execution_count": 34,
     "metadata": {},
     "output_type": "execute_result"
    }
   ],
   "source": [
    "s"
   ]
  },
  {
   "cell_type": "code",
   "execution_count": 35,
   "id": "4fc9c8b0-b751-4249-9a85-50d3534c87b2",
   "metadata": {},
   "outputs": [
    {
     "data": {
      "text/plain": [
       "set"
      ]
     },
     "execution_count": 35,
     "metadata": {},
     "output_type": "execute_result"
    }
   ],
   "source": [
    "type(s)"
   ]
  },
  {
   "cell_type": "code",
   "execution_count": 36,
   "id": "dc95a5cb-7e78-419f-ac22-793ec0868d5f",
   "metadata": {},
   "outputs": [],
   "source": [
    "s.add(100)"
   ]
  },
  {
   "cell_type": "code",
   "execution_count": 37,
   "id": "1594d2fa-9a14-4221-9df9-4c1df64af27c",
   "metadata": {},
   "outputs": [
    {
     "data": {
      "text/plain": [
       "{1, 2, 3, 4, 5, 6, 7, 100}"
      ]
     },
     "execution_count": 37,
     "metadata": {},
     "output_type": "execute_result"
    }
   ],
   "source": [
    "s"
   ]
  },
  {
   "cell_type": "code",
   "execution_count": 38,
   "id": "69173320-ffd3-478e-9da9-dc8200fcb6a7",
   "metadata": {},
   "outputs": [],
   "source": [
    "s.remove(2)"
   ]
  },
  {
   "cell_type": "code",
   "execution_count": 39,
   "id": "c7cb210f-28d9-4f73-91f8-f014bf5ce768",
   "metadata": {},
   "outputs": [
    {
     "data": {
      "text/plain": [
       "{1, 3, 4, 5, 6, 7, 100}"
      ]
     },
     "execution_count": 39,
     "metadata": {},
     "output_type": "execute_result"
    }
   ],
   "source": [
    "s"
   ]
  },
  {
   "cell_type": "code",
   "execution_count": 40,
   "id": "f6336e64-a575-4622-ab74-f0e0712a29d8",
   "metadata": {},
   "outputs": [
    {
     "data": {
      "text/plain": [
       "('Bob', 'Mario', 'Luigi')"
      ]
     },
     "execution_count": 40,
     "metadata": {},
     "output_type": "execute_result"
    }
   ],
   "source": [
    "# tuples\n",
    "\n",
    "tup = (\"Bob\", \"Mario\", \"Luigi\")\n",
    "tup"
   ]
  },
  {
   "cell_type": "code",
   "execution_count": 41,
   "id": "f5b63046-5ff4-4073-8496-c0fec628661d",
   "metadata": {},
   "outputs": [
    {
     "data": {
      "text/plain": [
       "tuple"
      ]
     },
     "execution_count": 41,
     "metadata": {},
     "output_type": "execute_result"
    }
   ],
   "source": [
    "type(tup)"
   ]
  },
  {
   "cell_type": "code",
   "execution_count": 52,
   "id": "4df1144d-ddd9-43f3-a766-fec27e3d8315",
   "metadata": {},
   "outputs": [
    {
     "name": "stdout",
     "output_type": "stream",
     "text": [
      "True\n"
     ]
    }
   ],
   "source": [
    "# if else\n",
    "\n",
    "if 3 > 2:\n",
    "    print(True)\n",
    "elif 13 < 22:\n",
    "    print(False)\n",
    "else:\n",
    "    print(False)"
   ]
  },
  {
   "cell_type": "code",
   "execution_count": 53,
   "id": "98d8b719-03b3-49e3-b7cb-8beae9fe54f2",
   "metadata": {},
   "outputs": [
    {
     "name": "stdout",
     "output_type": "stream",
     "text": [
      "0\n",
      "1\n",
      "100\n",
      "2\n",
      "3\n",
      "5\n",
      "7\n",
      "8\n"
     ]
    }
   ],
   "source": [
    "# loops\n",
    "\n",
    "for item in li:\n",
    "    print(item)"
   ]
  },
  {
   "cell_type": "code",
   "execution_count": 68,
   "id": "30a11e74-934a-420b-a5d8-3ad8bae3f007",
   "metadata": {},
   "outputs": [],
   "source": [
    "li = [324, 5,23,345, 5334, 435,5876,0, 32]"
   ]
  },
  {
   "cell_type": "code",
   "execution_count": 69,
   "id": "b4a4dfc2-58dc-4ae1-b5aa-1c848affad53",
   "metadata": {},
   "outputs": [
    {
     "data": {
      "text/plain": [
       "[324, 5, 23, 345, 5334, 435, 5876, 0, 32]"
      ]
     },
     "execution_count": 69,
     "metadata": {},
     "output_type": "execute_result"
    }
   ],
   "source": [
    "li"
   ]
  },
  {
   "cell_type": "code",
   "execution_count": 70,
   "id": "723e646b-c4a3-440e-a75a-45bf669a6cdf",
   "metadata": {},
   "outputs": [
    {
     "name": "stdout",
     "output_type": "stream",
     "text": [
      "324 is even\n",
      "5 is odd\n",
      "23 is odd\n",
      "345 is odd\n",
      "5334 is even\n",
      "435 is odd\n",
      "5876 is even\n",
      "0 is ZERO\n",
      "32 is even\n"
     ]
    }
   ],
   "source": [
    "for num in li:\n",
    "    if num == 0:\n",
    "        print(f\"{num} is ZERO\")\n",
    "    elif num % 2 == 0:\n",
    "        print(f\"{num} is even\")\n",
    "    else:\n",
    "        print(f\"{num} is odd\")"
   ]
  },
  {
   "cell_type": "code",
   "execution_count": 72,
   "id": "216b8cf4-f6c5-4d0f-a4eb-4091e40e7397",
   "metadata": {},
   "outputs": [
    {
     "name": "stdout",
     "output_type": "stream",
     "text": [
      "10\n",
      "9\n",
      "8\n",
      "7\n",
      "6\n",
      "5\n",
      "4\n",
      "3\n",
      "2\n",
      "1\n"
     ]
    }
   ],
   "source": [
    "# while\n",
    "\n",
    "x = 10\n",
    "\n",
    "while (x > 0):\n",
    "    print(x)\n",
    "    x -= 1"
   ]
  },
  {
   "cell_type": "code",
   "execution_count": null,
   "id": "decc0b1f-30ce-4002-8b81-4fbdacd90f6b",
   "metadata": {},
   "outputs": [],
   "source": []
  }
 ],
 "metadata": {
  "kernelspec": {
   "display_name": "Python 3 (ipykernel)",
   "language": "python",
   "name": "python3"
  },
  "language_info": {
   "codemirror_mode": {
    "name": "ipython",
    "version": 3
   },
   "file_extension": ".py",
   "mimetype": "text/x-python",
   "name": "python",
   "nbconvert_exporter": "python",
   "pygments_lexer": "ipython3",
   "version": "3.12.3"
  }
 },
 "nbformat": 4,
 "nbformat_minor": 5
}
